{
 "cells": [
  {
   "cell_type": "code",
   "execution_count": 108,
   "id": "02bdb4e5-e8d9-42bf-83e9-ba45ceff79b7",
   "metadata": {},
   "outputs": [],
   "source": [
    "# Import necessary libraries\n",
    "import pandas as pd\n",
    "import numpy as np\n",
    "import matplotlib.pyplot as plt\n",
    "import seaborn as sns"
   ]
  },
  {
   "cell_type": "code",
   "execution_count": 109,
   "id": "87ffeebb-45aa-4116-9120-bfed9673a026",
   "metadata": {},
   "outputs": [
    {
     "name": "stdout",
     "output_type": "stream",
     "text": [
      "       crim        zn     indus      chas       nox        rm       age  \\\n",
      "0 -0.789960  0.284830 -1.287909 -0.272599 -0.144217  0.413672 -0.120013   \n",
      "1 -0.769755 -0.487722 -0.593381 -0.272599 -0.740262  0.194274  0.367166   \n",
      "2 -0.769774 -0.487722 -0.593381 -0.272599 -0.740262  1.282714 -0.265812   \n",
      "3 -0.764946 -0.487722 -1.306878 -0.272599 -0.835284  1.016303 -0.809889   \n",
      "4 -0.730775 -0.487722 -1.306878 -0.272599 -0.835284  1.228577 -0.511180   \n",
      "\n",
      "        dis       rad       tax   ptratio         b     lstat      medv  \n",
      "0  0.140214 -0.982843 -0.666608 -1.459000  0.441052 -1.075562  0.345176  \n",
      "1  0.557160 -0.867883 -0.987329 -0.303094  0.441052 -0.492439  0.084104  \n",
      "2  0.557160 -0.867883 -0.987329 -0.303094  0.396427 -1.208727  1.266776  \n",
      "3  1.077737 -0.752922 -1.106115  0.113032  0.416163 -1.361517  1.170822  \n",
      "4  1.077737 -0.752922 -1.106115  0.113032  0.441052 -1.026501  1.373242  \n"
     ]
    }
   ],
   "source": [
    "df = pd.read_pickle(\"boston_housing.pkl\")\n",
    "print(df.head())  # Check if data is loaded correctly\n"
   ]
  },
  {
   "cell_type": "markdown",
   "id": "6d7447ac-46fe-4bfc-831f-b0b7f6cc60e8",
   "metadata": {},
   "source": [
    "# Handle missing values and outliers"
   ]
  },
  {
   "cell_type": "code",
   "execution_count": 111,
   "id": "42a292ba-ba87-444e-a868-b13a1d09f694",
   "metadata": {},
   "outputs": [
    {
     "name": "stdout",
     "output_type": "stream",
     "text": [
      "Missing Values Before Handling:\n",
      " crim       0\n",
      "zn         0\n",
      "indus      0\n",
      "chas       0\n",
      "nox        0\n",
      "rm         0\n",
      "age        0\n",
      "dis        0\n",
      "rad        0\n",
      "tax        0\n",
      "ptratio    0\n",
      "b          0\n",
      "lstat      0\n",
      "medv       0\n",
      "dtype: int64\n"
     ]
    }
   ],
   "source": [
    "# Check for missing values\n",
    "print(\"Missing Values Before Handling:\\n\", df.isnull().sum())\n"
   ]
  },
  {
   "cell_type": "markdown",
   "id": "8372ddd6-5981-43a4-bd0b-eaa1455e1798",
   "metadata": {},
   "source": [
    " - No missing values to handle\n",
    "\n",
    " ## **Handle Outliers**"
   ]
  },
  {
   "cell_type": "code",
   "execution_count": 113,
   "id": "3a433812-7263-4bdc-b10b-cfcacdeb0b44",
   "metadata": {},
   "outputs": [
    {
     "name": "stdout",
     "output_type": "stream",
     "text": [
      "Dataset shape before outlier removal: (506, 14)\n"
     ]
    },
    {
     "name": "stderr",
     "output_type": "stream",
     "text": [
      "/Applications/anaconda3/lib/python3.7/site-packages/pandas/core/arraylike.py:364: RuntimeWarning: invalid value encountered in log1p\n",
      "  result = getattr(ufunc, method)(*inputs, **kwargs)\n"
     ]
    },
    {
     "data": {
      "image/png": "[encoded data removed]",
      "text/plain": [
       "<Figure size 720x360 with 2 Axes>"
      ]
     },
     "metadata": {
      "needs_background": "light"
     },
     "output_type": "display_data"
    },
    {
     "name": "stdout",
     "output_type": "stream",
     "text": [
      "Dataset shape after outlier removal: (506, 14)\n"
     ]
    }
   ],
   "source": [
    "print(f\"Dataset shape before outlier removal: {df.shape}\")\n",
    "# Apply log transformation to highly skewed variables\n",
    "df['crim'] = np.log1p(df['crim'])  # log(1 + x) to handle zeros\n",
    "df['medv'] = np.log1p(df['medv'])  # log transformation to reduce ceiling effect\n",
    "\n",
    "# Check the transformed distributions\n",
    "df[['crim', 'medv']].hist(figsize=(10, 5), bins=30)\n",
    "plt.show()\n",
    "print(f\"Dataset shape after outlier removal: {df.shape}\")"
   ]
  },
  {
   "cell_type": "code",
   "execution_count": 114,
   "id": "d01c3934-fe10-47d0-95a6-d78dff8ef07b",
   "metadata": {},
   "outputs": [
    {
     "name": "stdout",
     "output_type": "stream",
     "text": [
      "\n",
      "Final Summary Statistics:\n",
      "              crim            zn         indus          chas           nox  \\\n",
      "count  506.000000  5.060000e+02  5.060000e+02  5.060000e+02  5.060000e+02   \n",
      "mean    -0.458785  3.306534e-16  2.804081e-16 -3.100287e-16 -8.071058e-16   \n",
      "std      0.933094  1.000990e+00  1.000990e+00  1.000990e+00  1.000990e+00   \n",
      "min     -1.560457 -4.877224e-01 -1.557842e+00 -2.725986e-01 -1.465882e+00   \n",
      "25%     -1.269222 -4.877224e-01 -8.676906e-01 -2.725986e-01 -9.130288e-01   \n",
      "50%     -0.850150 -4.877224e-01 -2.110985e-01 -2.725986e-01 -1.442174e-01   \n",
      "75%      0.538686  4.877224e-02  1.015999e+00 -2.725986e-01  5.986790e-01   \n",
      "max      1.527743  3.804234e+00  2.422565e+00  3.668398e+00  2.732346e+00   \n",
      "\n",
      "                 rm           age           dis           rad           tax  \\\n",
      "count  5.060000e+02  5.060000e+02  5.060000e+02  5.060000e+02  5.060000e+02   \n",
      "mean  -5.189086e-17 -2.650493e-16  8.293761e-17  1.514379e-15 -9.934960e-16   \n",
      "std    1.000990e+00  1.000990e+00  1.000990e+00  1.000990e+00  1.000990e+00   \n",
      "min   -3.880249e+00 -2.335437e+00 -1.267069e+00 -9.828429e-01 -1.313990e+00   \n",
      "25%   -5.686303e-01 -8.374480e-01 -8.056878e-01 -6.379618e-01 -7.675760e-01   \n",
      "50%   -1.084655e-01  3.173816e-01 -2.793234e-01 -5.230014e-01 -4.646726e-01   \n",
      "75%    4.827678e-01  9.067981e-01  6.623709e-01  1.661245e+00  1.530926e+00   \n",
      "max    3.555044e+00  1.117494e+00  3.960518e+00  1.661245e+00  1.798194e+00   \n",
      "\n",
      "            ptratio             b         lstat        medv  \n",
      "count  5.060000e+02  5.060000e+02  5.060000e+02  432.000000  \n",
      "mean   4.493551e-16 -1.451408e-16 -1.595123e-16    0.008239  \n",
      "std    1.000990e+00  1.000990e+00  1.000990e+00    0.851088  \n",
      "min   -2.707379e+00 -3.907193e+00 -1.531127e+00   -5.037994  \n",
      "25%   -4.880391e-01  2.050715e-01 -7.994200e-01   -0.215090  \n",
      "50%    2.748590e-01  3.811865e-01 -1.812536e-01    0.146205  \n",
      "75%    8.065758e-01  4.336510e-01  6.030188e-01    0.521240  \n",
      "max    1.638828e+00  4.410519e-01  3.548771e+00    1.159836  \n"
     ]
    },
    {
     "data": {
      "image/png": "[encoded data removed]",
      "text/plain": [
       "<Figure size 864x432 with 1 Axes>"
      ]
     },
     "metadata": {
      "needs_background": "light"
     },
     "output_type": "display_data"
    }
   ],
   "source": [
    "# Check for missing values and summary statistics\n",
    "print(\"\\nFinal Summary Statistics:\\n\", df.describe())\n",
    "\n",
    "# Boxplot to check if outliers are reduced\n",
    "import seaborn as sns\n",
    "plt.figure(figsize=(12, 6))\n",
    "sns.boxplot(data=df[columns_with_outliers])\n",
    "plt.title(\"Boxplot after Outlier Handling\")\n",
    "plt.show()"
   ]
  },
  {
   "cell_type": "markdown",
   "id": "2c840e13-c155-4549-a0f5-f2ff6010d333",
   "metadata": {},
   "source": [
    "## **Encode categorical variables**\n",
    "- No Categorical values to encode , the Boston Dataset has only numerical values"
   ]
  },
  {
   "cell_type": "markdown",
   "id": "ea25d606-0fa3-494a-ad51-614d716ed2a5",
   "metadata": {},
   "source": [
    "## **Normalize/standardize numerical features.**"
   ]
  },
  {
   "cell_type": "code",
   "execution_count": 117,
   "id": "3eeadc6a-cc6c-41ef-be93-c05703382d23",
   "metadata": {},
   "outputs": [
    {
     "name": "stdout",
     "output_type": "stream",
     "text": [
      "       crim        zn     indus      chas       nox        rm       age  \\\n",
      "0 -1.181835  0.284830 -1.287909 -0.272599 -0.144217  0.413672 -0.120013   \n",
      "1 -1.083307 -0.487722 -0.593381 -0.272599 -0.740262  0.194274  0.367166   \n",
      "2 -1.083395 -0.487722 -0.593381 -0.272599 -0.740262  1.282714 -0.265812   \n",
      "3 -1.061131 -0.487722 -1.306878 -0.272599 -0.835284  1.016303 -0.809889   \n",
      "4 -0.915522 -0.487722 -1.306878 -0.272599 -0.835284  1.228577 -0.511180   \n",
      "\n",
      "        dis       rad       tax   ptratio         b     lstat      medv  \n",
      "0  0.140214 -0.982843 -0.666608 -1.459000  0.441052 -1.075562  0.339119  \n",
      "1  0.557160 -0.867883 -0.987329 -0.303094  0.441052 -0.492439  0.085301  \n",
      "2  0.557160 -0.867883 -0.987329 -0.303094  0.396427 -1.208727  0.952967  \n",
      "3  1.077737 -0.752922 -1.106115  0.113032  0.416163 -1.361517  0.902087  \n",
      "4  1.077737 -0.752922 -1.106115  0.113032  0.441052 -1.026501  1.006959  \n"
     ]
    }
   ],
   "source": [
    "\n",
    "from sklearn.preprocessing import StandardScaler\n",
    "\n",
    "# Select numerical columns (excluding categorical ones)\n",
    "numerical_cols = df.select_dtypes(include=['float64', 'int64']).columns\n",
    "\n",
    "scaler = StandardScaler()\n",
    "df[numerical_cols] = scaler.fit_transform(df[numerical_cols])\n",
    "\n",
    "print(df.head())  # Check the transformed data\n",
    "\n"
   ]
  },
  {
   "cell_type": "markdown",
   "id": "59ca4a5e-3b18-4b2e-b984-a1755ebca3ca",
   "metadata": {},
   "source": [
    "## **Split the data into training and testing sets.**"
   ]
  },
  {
   "cell_type": "code",
   "execution_count": 119,
   "id": "e5830ea3-e5d0-41a3-b5e5-e9e62d090497",
   "metadata": {},
   "outputs": [
    {
     "name": "stdout",
     "output_type": "stream",
     "text": [
      "Training set size: X_train: (404, 13), y_train: (404,)\n",
      "Testing set size: X_test: (102, 13), y_test: (102,)\n"
     ]
    }
   ],
   "source": [
    "from sklearn.model_selection import train_test_split\n",
    "# Define features (X) and target variable (y)\n",
    "X = df.drop(columns=['medv'])  # Features (drop the target column)\n",
    "y = df['medv']  # Target variable (house prices)\n",
    "\n",
    "# Split data: 80% training, 20% testing\n",
    "X_train, X_test, y_train, y_test = train_test_split(X, y, test_size=0.2, random_state=42)\n",
    "\n",
    "# Print dataset shapes\n",
    "print(f\"Training set size: X_train: {X_train.shape}, y_train: {y_train.shape}\")\n",
    "print(f\"Testing set size: X_test: {X_test.shape}, y_test: {y_test.shape}\")\n"
   ]
  },
  {
   "cell_type": "code",
   "execution_count": 120,
   "id": "4a3460a6-3207-465c-8919-1ca4c3448a49",
   "metadata": {},
   "outputs": [],
   "source": [
    "df.to_pickle(\"boston_housing.pkl\")"
   ]
  },
  {
   "cell_type": "code",
   "execution_count": 121,
   "id": "fbf6dd1b-9106-48d6-bced-e2a5154078e7",
   "metadata": {},
   "outputs": [
    {
     "data": {
      "text/html": [
       "<div>\n",
       "<style scoped>\n",
       "    .dataframe tbody tr th:only-of-type {\n",
       "        vertical-align: middle;\n",
       "    }\n",
       "\n",
       "    .dataframe tbody tr th {\n",
       "        vertical-align: top;\n",
       "    }\n",
       "\n",
       "    .dataframe thead th {\n",
       "        text-align: right;\n",
       "    }\n",
       "</style>\n",
       "<table border=\"1\" class=\"dataframe\">\n",
       "  <thead>\n",
       "    <tr style=\"text-align: right;\">\n",
       "      <th></th>\n",
       "      <th>crim</th>\n",
       "      <th>zn</th>\n",
       "      <th>indus</th>\n",
       "      <th>chas</th>\n",
       "      <th>nox</th>\n",
       "      <th>rm</th>\n",
       "      <th>age</th>\n",
       "      <th>dis</th>\n",
       "      <th>rad</th>\n",
       "      <th>tax</th>\n",
       "      <th>ptratio</th>\n",
       "      <th>b</th>\n",
       "      <th>lstat</th>\n",
       "      <th>medv</th>\n",
       "    </tr>\n",
       "  </thead>\n",
       "  <tbody>\n",
       "    <tr>\n",
       "      <th>0</th>\n",
       "      <td>-1.181835</td>\n",
       "      <td>0.284830</td>\n",
       "      <td>-1.287909</td>\n",
       "      <td>-0.272599</td>\n",
       "      <td>-0.144217</td>\n",
       "      <td>0.413672</td>\n",
       "      <td>-0.120013</td>\n",
       "      <td>0.140214</td>\n",
       "      <td>-0.982843</td>\n",
       "      <td>-0.666608</td>\n",
       "      <td>-1.459000</td>\n",
       "      <td>0.441052</td>\n",
       "      <td>-1.075562</td>\n",
       "      <td>0.339119</td>\n",
       "    </tr>\n",
       "    <tr>\n",
       "      <th>1</th>\n",
       "      <td>-1.083307</td>\n",
       "      <td>-0.487722</td>\n",
       "      <td>-0.593381</td>\n",
       "      <td>-0.272599</td>\n",
       "      <td>-0.740262</td>\n",
       "      <td>0.194274</td>\n",
       "      <td>0.367166</td>\n",
       "      <td>0.557160</td>\n",
       "      <td>-0.867883</td>\n",
       "      <td>-0.987329</td>\n",
       "      <td>-0.303094</td>\n",
       "      <td>0.441052</td>\n",
       "      <td>-0.492439</td>\n",
       "      <td>0.085301</td>\n",
       "    </tr>\n",
       "    <tr>\n",
       "      <th>2</th>\n",
       "      <td>-1.083395</td>\n",
       "      <td>-0.487722</td>\n",
       "      <td>-0.593381</td>\n",
       "      <td>-0.272599</td>\n",
       "      <td>-0.740262</td>\n",
       "      <td>1.282714</td>\n",
       "      <td>-0.265812</td>\n",
       "      <td>0.557160</td>\n",
       "      <td>-0.867883</td>\n",
       "      <td>-0.987329</td>\n",
       "      <td>-0.303094</td>\n",
       "      <td>0.396427</td>\n",
       "      <td>-1.208727</td>\n",
       "      <td>0.952967</td>\n",
       "    </tr>\n",
       "    <tr>\n",
       "      <th>3</th>\n",
       "      <td>-1.061131</td>\n",
       "      <td>-0.487722</td>\n",
       "      <td>-1.306878</td>\n",
       "      <td>-0.272599</td>\n",
       "      <td>-0.835284</td>\n",
       "      <td>1.016303</td>\n",
       "      <td>-0.809889</td>\n",
       "      <td>1.077737</td>\n",
       "      <td>-0.752922</td>\n",
       "      <td>-1.106115</td>\n",
       "      <td>0.113032</td>\n",
       "      <td>0.416163</td>\n",
       "      <td>-1.361517</td>\n",
       "      <td>0.902087</td>\n",
       "    </tr>\n",
       "    <tr>\n",
       "      <th>4</th>\n",
       "      <td>-0.915522</td>\n",
       "      <td>-0.487722</td>\n",
       "      <td>-1.306878</td>\n",
       "      <td>-0.272599</td>\n",
       "      <td>-0.835284</td>\n",
       "      <td>1.228577</td>\n",
       "      <td>-0.511180</td>\n",
       "      <td>1.077737</td>\n",
       "      <td>-0.752922</td>\n",
       "      <td>-1.106115</td>\n",
       "      <td>0.113032</td>\n",
       "      <td>0.441052</td>\n",
       "      <td>-1.026501</td>\n",
       "      <td>1.006959</td>\n",
       "    </tr>\n",
       "  </tbody>\n",
       "</table>\n",
       "</div>"
      ],
      "text/plain": [
       "       crim        zn     indus      chas       nox        rm       age  \\\n",
       "0 -1.181835  0.284830 -1.287909 -0.272599 -0.144217  0.413672 -0.120013   \n",
       "1 -1.083307 -0.487722 -0.593381 -0.272599 -0.740262  0.194274  0.367166   \n",
       "2 -1.083395 -0.487722 -0.593381 -0.272599 -0.740262  1.282714 -0.265812   \n",
       "3 -1.061131 -0.487722 -1.306878 -0.272599 -0.835284  1.016303 -0.809889   \n",
       "4 -0.915522 -0.487722 -1.306878 -0.272599 -0.835284  1.228577 -0.511180   \n",
       "\n",
       "        dis       rad       tax   ptratio         b     lstat      medv  \n",
       "0  0.140214 -0.982843 -0.666608 -1.459000  0.441052 -1.075562  0.339119  \n",
       "1  0.557160 -0.867883 -0.987329 -0.303094  0.441052 -0.492439  0.085301  \n",
       "2  0.557160 -0.867883 -0.987329 -0.303094  0.396427 -1.208727  0.952967  \n",
       "3  1.077737 -0.752922 -1.106115  0.113032  0.416163 -1.361517  0.902087  \n",
       "4  1.077737 -0.752922 -1.106115  0.113032  0.441052 -1.026501  1.006959  "
      ]
     },
     "execution_count": 121,
     "metadata": {},
     "output_type": "execute_result"
    }
   ],
   "source": [
    "df.head()\n",
    "#df.shape"
   ]
  },
  {
   "cell_type": "code",
   "execution_count": 133,
   "id": "afdf3de1-b709-4eb8-941d-154c2840f32f",
   "metadata": {},
   "outputs": [
    {
     "name": "stdout",
     "output_type": "stream",
     "text": [
      "Processed data saved at: data/processed_data.csv\n"
     ]
    }
   ],
   "source": [
    "import os\n",
    "\n",
    "# Define directory and filename\n",
    "save_dir = \"data\"\n",
    "save_path = os.path.join(save_dir, \"processed_data.csv\")\n",
    "\n",
    "# Ensure the directory exists\n",
    "os.makedirs(save_dir, exist_ok=True)\n",
    "\n",
    "# Save the DataFrame as CSV\n",
    "df.to_csv(save_path, index=False)\n",
    "\n",
    "print(f\"Processed data saved at: {save_path}\")\n"
   ]
  },
  {
   "cell_type": "code",
   "execution_count": null,
   "id": "d2e73943-586a-4c8b-9553-9e460df9d9ed",
   "metadata": {},
   "outputs": [],
   "source": []
  }
 ],
 "metadata": {
  "kernelspec": {
   "display_name": "Python [conda env:anaconda3]",
   "language": "python",
   "name": "conda-env-anaconda3-py"
  },
  "language_info": {
   "codemirror_mode": {
    "name": "ipython",
    "version": 3
   },
   "file_extension": ".py",
   "mimetype": "text/x-python",
   "name": "python",
   "nbconvert_exporter": "python",
   "pygments_lexer": "ipython3",
   "version": "3.7.1"
  }
 },
 "nbformat": 4,
 "nbformat_minor": 5
}
