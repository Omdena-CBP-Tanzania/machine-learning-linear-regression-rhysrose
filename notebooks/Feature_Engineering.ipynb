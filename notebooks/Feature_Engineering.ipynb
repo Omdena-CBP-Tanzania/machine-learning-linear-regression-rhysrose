{
 "cells": [
  {
   "cell_type": "markdown",
   "id": "c4cd8ddf-5db4-48f9-a41c-cd25ee7ebe14",
   "metadata": {},
   "source": [
    "# Task 5: Feature Engineering"
   ]
  },
  {
   "cell_type": "code",
   "execution_count": 9,
   "id": "96224c9f-0b1c-4134-b1d1-4d81b9342d8e",
   "metadata": {},
   "outputs": [],
   "source": [
    "import pandas as pd\n",
    "import numpy as np\n",
    "from sklearn.datasets import load_boston\n",
    "from sklearn.model_selection import train_test_split\n",
    "from sklearn.linear_model import LinearRegression\n",
    "from sklearn.preprocessing import PolynomialFeatures, StandardScaler\n",
    "from sklearn.metrics import mean_squared_error, r2_score\n",
    "import seaborn as sns\n",
    "import matplotlib.pyplot as plt\n"
   ]
  },
  {
   "cell_type": "code",
   "execution_count": 11,
   "id": "eefa8ef5-52af-45f9-ad9a-8e7684e3700d",
   "metadata": {},
   "outputs": [],
   "source": [
    "# Load dataset\n",
    "filepath = r\"/Users/rosepeterfunja/Tanzania_KIC/Assignment/machine-learning-linear-regression-rhysrose/BostonHousing.csv\"\n",
    "df = pd.read_csv(filepath)\n"
   ]
  },
  {
   "cell_type": "code",
   "execution_count": 19,
   "id": "5ed3246e-84ac-4064-84e4-05a52f533ae2",
   "metadata": {},
   "outputs": [
    {
     "name": "stdout",
     "output_type": "stream",
     "text": [
      "Index(['crim', 'zn', 'indus', 'chas', 'nox', 'rm', 'age', 'dis', 'rad', 'tax',\n",
      "       'ptratio', 'b', 'lstat', 'medv'],\n",
      "      dtype='object')\n"
     ]
    }
   ],
   "source": [
    "print(df.columns)"
   ]
  },
  {
   "cell_type": "code",
   "execution_count": 21,
   "id": "6605a8eb-f303-455a-bdcb-0a380edbf10a",
   "metadata": {},
   "outputs": [],
   "source": [
    "\n",
    "# Split the data into features and target\n",
    "X = df.drop('medv', axis=1)  # Features (all columns except 'MEDV')\n",
    "y = df['medv']  # Target variable (MEDV)"
   ]
  },
  {
   "cell_type": "code",
   "execution_count": 27,
   "id": "1a3929c8-8199-4bdf-ad17-92e0fe801fda",
   "metadata": {},
   "outputs": [],
   "source": [
    "# Feature Engineering: Polynomial Features\n",
    "poly = PolynomialFeatures(degree=2)\n",
    "X_poly = poly.fit_transform(X)\n",
    "# Interaction Term Example: RM * LSTAT\n",
    "X['RM_LSTAT_interaction'] = X['rm'] * X['lstat']\n",
    "\n",
    "# Log Transformation for highly skewed features\n",
    "X['CRIM_log'] = np.log1p(X['crim'])\n",
    "X['TAX_log'] = np.log1p(X['tax'])\n",
    "\n",
    "# Feature Scaling\n",
    "scaler = StandardScaler()\n",
    "X_scaled = scaler.fit_transform(X)\n",
    "\n",
    "# Handle missing values (impute with median for simplicity)\n",
    "X.fillna(X.median(), inplace=True)\n"
   ]
  },
  {
   "cell_type": "code",
   "execution_count": 29,
   "id": "39fdc6fa-47a0-4b42-8f5f-e5a90a56e49b",
   "metadata": {},
   "outputs": [
    {
     "name": "stdout",
     "output_type": "stream",
     "text": [
      "Mean Squared Error (MSE): 16.765969011750187\n",
      "R² Score: 0.7713745522292736\n"
     ]
    }
   ],
   "source": [
    "# Split the dataset into training and testing sets (80% train, 20% test)\n",
    "X_train, X_test, y_train, y_test = train_test_split(X_scaled, y, test_size=0.2, random_state=42)\n",
    "\n",
    "# Model Training: Linear Regression\n",
    "model = LinearRegression()\n",
    "model.fit(X_train, y_train)\n",
    "\n",
    "# Predictions\n",
    "y_pred = model.predict(X_test)\n",
    "\n",
    "# Model Evaluation: MSE and R² Score\n",
    "mse = mean_squared_error(y_test, y_pred)\n",
    "r2 = r2_score(y_test, y_pred)\n",
    "\n",
    "print(\"Mean Squared Error (MSE):\", mse)\n",
    "print(\"R² Score:\", r2)\n"
   ]
  },
  {
   "cell_type": "code",
   "execution_count": 31,
   "id": "f0f7b1dd-7039-4b80-99bb-8db9bf22ee46",
   "metadata": {},
   "outputs": [
    {
     "data": {
      "image/png": "[encoded data removed]",
      "text/plain": [
       "<Figure size 576x360 with 1 Axes>"
      ]
     },
     "metadata": {
      "needs_background": "light"
     },
     "output_type": "display_data"
    }
   ],
   "source": [
    "# Residual Plot\n",
    "residuals = y_test - y_pred\n",
    "plt.figure(figsize=(8, 5))\n",
    "plt.scatter(y_pred, residuals)\n",
    "plt.axhline(y=0, color='r', linestyle='--')\n",
    "plt.xlabel(\"Predicted Values\")\n",
    "plt.ylabel(\"Residuals\")\n",
    "plt.title(\"Residual Plot\")\n",
    "plt.show()\n",
    "\n",
    "\n"
   ]
  },
  {
   "cell_type": "code",
   "execution_count": null,
   "id": "9e8ec7b4-f56f-44de-ad2f-3a319c00af0a",
   "metadata": {},
   "outputs": [],
   "source": []
  }
 ],
 "metadata": {
  "kernelspec": {
   "display_name": "Python [conda env:anaconda3]",
   "language": "python",
   "name": "conda-env-anaconda3-py"
  },
  "language_info": {
   "codemirror_mode": {
    "name": "ipython",
    "version": 3
   },
   "file_extension": ".py",
   "mimetype": "text/x-python",
   "name": "python",
   "nbconvert_exporter": "python",
   "pygments_lexer": "ipython3",
   "version": "3.7.1"
  }
 },
 "nbformat": 4,
 "nbformat_minor": 5
}
