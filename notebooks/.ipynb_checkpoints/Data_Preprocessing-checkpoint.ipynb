{
 "cells": [
  {
   "cell_type": "code",
   "execution_count": 24,
   "id": "02bdb4e5-e8d9-42bf-83e9-ba45ceff79b7",
   "metadata": {},
   "outputs": [],
   "source": [
    "# Import necessary libraries\n",
    "import pandas as pd\n",
    "import numpy as np\n",
    "import matplotlib.pyplot as plt\n",
    "import seaborn as sns"
   ]
  },
  {
   "cell_type": "code",
   "execution_count": 26,
   "id": "87ffeebb-45aa-4116-9120-bfed9673a026",
   "metadata": {},
   "outputs": [
    {
     "name": "stdout",
     "output_type": "stream",
     "text": [
      "      crim    zn  indus  chas    nox     rm   age     dis  rad  tax  ptratio  \\\n",
      "0  0.00632  18.0   2.31     0  0.538  6.575  65.2  4.0900    1  296     15.3   \n",
      "1  0.02731   0.0   7.07     0  0.469  6.421  78.9  4.9671    2  242     17.8   \n",
      "2  0.02729   0.0   7.07     0  0.469  7.185  61.1  4.9671    2  242     17.8   \n",
      "3  0.03237   0.0   2.18     0  0.458  6.998  45.8  6.0622    3  222     18.7   \n",
      "4  0.06905   0.0   2.18     0  0.458  7.147  54.2  6.0622    3  222     18.7   \n",
      "\n",
      "        b  lstat  medv  \n",
      "0  396.90   4.98  24.0  \n",
      "1  396.90   9.14  21.6  \n",
      "2  392.83   4.03  34.7  \n",
      "3  394.63   2.94  33.4  \n",
      "4  396.90   5.33  36.2  \n"
     ]
    }
   ],
   "source": [
    "df = pd.read_pickle(\"boston_housing.pkl\")\n",
    "print(df.head())  # Check if data is loaded correctly\n"
   ]
  },
  {
   "cell_type": "markdown",
   "id": "6d7447ac-46fe-4bfc-831f-b0b7f6cc60e8",
   "metadata": {},
   "source": [
    "# Handle missing values and outliers"
   ]
  },
  {
   "cell_type": "code",
   "execution_count": 29,
   "id": "42a292ba-ba87-444e-a868-b13a1d09f694",
   "metadata": {},
   "outputs": [
    {
     "name": "stdout",
     "output_type": "stream",
     "text": [
      "Missing Values Before Handling:\n",
      " crim       0\n",
      "zn         0\n",
      "indus      0\n",
      "chas       0\n",
      "nox        0\n",
      "rm         0\n",
      "age        0\n",
      "dis        0\n",
      "rad        0\n",
      "tax        0\n",
      "ptratio    0\n",
      "b          0\n",
      "lstat      0\n",
      "medv       0\n",
      "dtype: int64\n"
     ]
    }
   ],
   "source": [
    "# Check for missing values\n",
    "print(\"Missing Values Before Handling:\\n\", df.isnull().sum())\n"
   ]
  },
  {
   "cell_type": "markdown",
   "id": "8372ddd6-5981-43a4-bd0b-eaa1455e1798",
   "metadata": {},
   "source": [
    " - No missing values to handle\n",
    "\n",
    " ## **Handle Outliers**"
   ]
  },
  {
   "cell_type": "code",
   "execution_count": 32,
   "id": "3a433812-7263-4bdc-b10b-cfcacdeb0b44",
   "metadata": {},
   "outputs": [
    {
     "name": "stdout",
     "output_type": "stream",
     "text": [
      "Dataset shape before outlier removal: (506, 14)\n"
     ]
    },
    {
     "data": {
      "image/png": "[encoded data removed]",
      "text/plain": [
       "<Figure size 720x360 with 2 Axes>"
      ]
     },
     "metadata": {
      "needs_background": "light"
     },
     "output_type": "display_data"
    },
    {
     "name": "stdout",
     "output_type": "stream",
     "text": [
      "Dataset shape after outlier removal: (506, 14)\n"
     ]
    }
   ],
   "source": [
    "print(f\"Dataset shape before outlier removal: {df.shape}\")\n",
    "# Apply log transformation to highly skewed variables\n",
    "df['crim'] = np.log1p(df['crim'])  # log(1 + x) to handle zeros\n",
    "df['medv'] = np.log1p(df['medv'])  # log transformation to reduce ceiling effect\n",
    "\n",
    "# Check the transformed distributions\n",
    "df[['crim', 'medv']].hist(figsize=(10, 5), bins=30)\n",
    "plt.show()\n",
    "print(f\"Dataset shape after outlier removal: {df.shape}\")"
   ]
  },
  {
   "cell_type": "code",
   "execution_count": 38,
   "id": "d01c3934-fe10-47d0-95a6-d78dff8ef07b",
   "metadata": {},
   "outputs": [
    {
     "name": "stdout",
     "output_type": "stream",
     "text": [
      "\n",
      "Final Summary Statistics:\n",
      "              crim          zn       indus        chas         nox          rm  \\\n",
      "count  506.000000  506.000000  506.000000  506.000000  506.000000  506.000000   \n",
      "mean     0.813418   11.363636   11.136779    0.069170    0.554695    6.284634   \n",
      "std      1.022731   23.322453    6.860353    0.253994    0.115878    0.702617   \n",
      "min      0.006300    0.000000    0.460000    0.000000    0.385000    3.561000   \n",
      "25%      0.078853    0.000000    5.190000    0.000000    0.449000    5.885500   \n",
      "50%      0.228336    0.000000    9.690000    0.000000    0.538000    6.208500   \n",
      "75%      1.542674   12.500000   18.100000    0.000000    0.624000    6.623500   \n",
      "max      4.499545  100.000000   27.740000    1.000000    0.871000    8.780000   \n",
      "\n",
      "              age         dis         rad         tax     ptratio           b  \\\n",
      "count  506.000000  506.000000  506.000000  506.000000  506.000000  506.000000   \n",
      "mean    68.574901    3.795043    9.549407  408.237154   18.455534  356.674032   \n",
      "std     28.148861    2.105710    8.707259  168.537116    2.164946   91.294864   \n",
      "min      2.900000    1.129600    1.000000  187.000000   12.600000    0.320000   \n",
      "25%     45.025000    2.100175    4.000000  279.000000   17.400000  375.377500   \n",
      "50%     77.500000    3.207450    5.000000  330.000000   19.050000  391.440000   \n",
      "75%     94.075000    5.188425   24.000000  666.000000   20.200000  396.225000   \n",
      "max    100.000000   12.126500   24.000000  711.000000   22.000000  396.900000   \n",
      "\n",
      "            lstat        medv  \n",
      "count  506.000000  506.000000  \n",
      "mean    12.653063    3.085437  \n",
      "std      7.141062    0.386966  \n",
      "min      1.730000    1.791759  \n",
      "25%      6.950000    2.891757  \n",
      "50%     11.360000    3.100092  \n",
      "75%     16.955000    3.258097  \n",
      "max     37.970000    3.931826  \n"
     ]
    },
    {
     "data": {
      "image/png": "[encoded data removed]",
      "text/plain": [
       "<Figure size 864x432 with 1 Axes>"
      ]
     },
     "metadata": {
      "needs_background": "light"
     },
     "output_type": "display_data"
    }
   ],
   "source": [
    "# Check for missing values and summary statistics\n",
    "print(\"\\nFinal Summary Statistics:\\n\", df.describe())\n",
    "\n",
    "# Boxplot to check if outliers are reduced\n",
    "import seaborn as sns\n",
    "plt.figure(figsize=(12, 6))\n",
    "sns.boxplot(data=df[columns_with_outliers])\n",
    "plt.title(\"Boxplot after Outlier Handling\")\n",
    "plt.show()"
   ]
  },
  {
   "cell_type": "markdown",
   "id": "2c840e13-c155-4549-a0f5-f2ff6010d333",
   "metadata": {},
   "source": [
    "## **Encode categorical variables**\n",
    "- No Categorical values to encode , the Boston Dataset has only numerical values"
   ]
  },
  {
   "cell_type": "markdown",
   "id": "ea25d606-0fa3-494a-ad51-614d716ed2a5",
   "metadata": {},
   "source": [
    "## **Normalize/standardize numerical features.**"
   ]
  },
  {
   "cell_type": "code",
   "execution_count": 48,
   "id": "3eeadc6a-cc6c-41ef-be93-c05703382d23",
   "metadata": {},
   "outputs": [
    {
     "name": "stdout",
     "output_type": "stream",
     "text": [
      "       crim        zn     indus      chas       nox        rm       age  \\\n",
      "0 -0.789960  0.284830 -1.287909 -0.272599 -0.144217  0.413672 -0.120013   \n",
      "1 -0.769755 -0.487722 -0.593381 -0.272599 -0.740262  0.194274  0.367166   \n",
      "2 -0.769774 -0.487722 -0.593381 -0.272599 -0.740262  1.282714 -0.265812   \n",
      "3 -0.764946 -0.487722 -1.306878 -0.272599 -0.835284  1.016303 -0.809889   \n",
      "4 -0.730775 -0.487722 -1.306878 -0.272599 -0.835284  1.228577 -0.511180   \n",
      "\n",
      "        dis       rad       tax   ptratio         b     lstat      medv  \n",
      "0  0.140214 -0.982843 -0.666608 -1.459000  0.441052 -1.075562  0.345176  \n",
      "1  0.557160 -0.867883 -0.987329 -0.303094  0.441052 -0.492439  0.084104  \n",
      "2  0.557160 -0.867883 -0.987329 -0.303094  0.396427 -1.208727  1.266776  \n",
      "3  1.077737 -0.752922 -1.106115  0.113032  0.416163 -1.361517  1.170822  \n",
      "4  1.077737 -0.752922 -1.106115  0.113032  0.441052 -1.026501  1.373242  \n"
     ]
    }
   ],
   "source": [
    "\n",
    "from sklearn.preprocessing import StandardScaler\n",
    "\n",
    "# Select numerical columns (excluding categorical ones)\n",
    "numerical_cols = df.select_dtypes(include=['float64', 'int64']).columns\n",
    "\n",
    "scaler = StandardScaler()\n",
    "df[numerical_cols] = scaler.fit_transform(df[numerical_cols])\n",
    "\n",
    "print(df.head())  # Check the transformed data\n",
    "\n"
   ]
  },
  {
   "cell_type": "markdown",
   "id": "59ca4a5e-3b18-4b2e-b984-a1755ebca3ca",
   "metadata": {},
   "source": [
    "## **Split the data into training and testing sets.**"
   ]
  },
  {
   "cell_type": "code",
   "execution_count": 51,
   "id": "e5830ea3-e5d0-41a3-b5e5-e9e62d090497",
   "metadata": {},
   "outputs": [
    {
     "name": "stdout",
     "output_type": "stream",
     "text": [
      "Training set size: X_train: (404, 13), y_train: (404,)\n",
      "Testing set size: X_test: (102, 13), y_test: (102,)\n"
     ]
    }
   ],
   "source": [
    "from sklearn.model_selection import train_test_split\n",
    "# Define features (X) and target variable (y)\n",
    "X = df.drop(columns=['medv'])  # Features (drop the target column)\n",
    "y = df['medv']  # Target variable (house prices)\n",
    "\n",
    "# Split data: 80% training, 20% testing\n",
    "X_train, X_test, y_train, y_test = train_test_split(X, y, test_size=0.2, random_state=42)\n",
    "\n",
    "# Print dataset shapes\n",
    "print(f\"Training set size: X_train: {X_train.shape}, y_train: {y_train.shape}\")\n",
    "print(f\"Testing set size: X_test: {X_test.shape}, y_test: {y_test.shape}\")\n"
   ]
  },
  {
   "cell_type": "code",
   "execution_count": null,
   "id": "4a3460a6-3207-465c-8919-1ca4c3448a49",
   "metadata": {},
   "outputs": [],
   "source": []
  }
 ],
 "metadata": {
  "kernelspec": {
   "display_name": "Python [conda env:anaconda3]",
   "language": "python",
   "name": "conda-env-anaconda3-py"
  },
  "language_info": {
   "codemirror_mode": {
    "name": "ipython",
    "version": 3
   },
   "file_extension": ".py",
   "mimetype": "text/x-python",
   "name": "python",
   "nbconvert_exporter": "python",
   "pygments_lexer": "ipython3",
   "version": "3.7.1"
  }
 },
 "nbformat": 4,
 "nbformat_minor": 5
}
