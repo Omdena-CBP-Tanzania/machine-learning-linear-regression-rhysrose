{
 "cells": [
  {
   "cell_type": "markdown",
   "id": "686f8dbf-8da3-4ac9-8a63-d5a700ac1740",
   "metadata": {},
   "source": [
    "# Task 4: Model Evaluation"
   ]
  },
  {
   "cell_type": "code",
   "execution_count": 10,
   "id": "0486ec0f-4da9-4d68-a2b6-7c43b212da3b",
   "metadata": {},
   "outputs": [],
   "source": [
    "import pandas as pd\n",
    "import matplotlib.pyplot as plt\n",
    "from sklearn.linear_model import LinearRegression\n",
    "from sklearn.metrics import mean_squared_error, r2_score"
   ]
  },
  {
   "cell_type": "code",
   "execution_count": 12,
   "id": "e98ff2e8-320d-4aad-80e4-f2d40d3951a1",
   "metadata": {},
   "outputs": [],
   "source": [
    "#Import Model and Test data\n",
    "import joblib\n",
    "modelpath= \"/Users/rosepeterfunja/Tanzania_KIC/Assignment/machine-learning-linear-regression-rhysrose/models/linear_regression_model.pkl\"\n",
    "\n",
    "model = joblib.load(modelpath)\n",
    "\n",
    "X_data_path = r\"/Users/rosepeterfunja/Tanzania_KIC/Assignment/machine-learning-linear-regression-rhysrose/data/X_test.csv\"\n",
    "y_data_path = r\"/Users/rosepeterfunja/Tanzania_KIC/Assignment/machine-learning-linear-regression-rhysrose/data/y_test.csv\"\n",
    "\n",
    "X_test_df = pd.read_csv(X_data_path)\n",
    "y_test_df = pd.read_csv(y_data_path)"
   ]
  },
  {
   "cell_type": "code",
   "execution_count": 26,
   "id": "4d30d1af-e26f-428b-a364-5a9168123a15",
   "metadata": {},
   "outputs": [
    {
     "name": "stdout",
     "output_type": "stream",
     "text": [
      "Mean Squared Error: 0.5081\n",
      "R² Score: 0.5002\n"
     ]
    },
    {
     "name": "stderr",
     "output_type": "stream",
     "text": [
      "/Applications/anaconda3/lib/python3.7/site-packages/sklearn/base.py:444: UserWarning: X has feature names, but LinearRegression was fitted without feature names\n",
      "  f\"X has feature names, but {self.__class__.__name__} was fitted without\"\n"
     ]
    }
   ],
   "source": [
    "# Predict\n",
    "y_pred = model.predict(X_test_df)\n",
    "\n",
    "# Metrics\n",
    "mse = mean_squared_error(y_test_df, y_pred)\n",
    "r2 = r2_score(y_test_df, y_pred)\n",
    "\n",
    "print(f\"Mean Squared Error: {mse:.4f}\")\n",
    "print(f\"R² Score: {r2:.4f}\")"
   ]
  },
  {
   "cell_type": "markdown",
   "id": "89f33913-e9ad-4f06-9e67-4adc0e256027",
   "metadata": {},
   "source": [
    "Moderate Model: The model is moderately effective, with the ability to explain about half of the variability in the target variable, but there's clearly room for improvement\n",
    "0.5 R² and MSE of 0.5081 indicate a model that's somewhat accurate but could be improved."
   ]
  },
  {
   "cell_type": "markdown",
   "id": "2920aa5e-07f8-42f0-8ca6-9dfb9aa471dd",
   "metadata": {},
   "source": [
    "## Plotting residuals "
   ]
  },
  {
   "cell_type": "code",
   "execution_count": 28,
   "id": "cf348545-90cf-4cdf-b7ea-89bc1f421c69",
   "metadata": {},
   "outputs": [
    {
     "data": {
      "image/png": "[encoded data removed]",
      "text/plain": [
       "<Figure size 576x360 with 1 Axes>"
      ]
     },
     "metadata": {
      "needs_background": "light"
     },
     "output_type": "display_data"
    }
   ],
   "source": [
    "# Residual plot\n",
    "\n",
    "# Convert y_test_df to a 1D array/series for the subtraction\n",
    "y_test_series = y_test_df.values.flatten()  # Convert y_test_df to a 1D array\n",
    "\n",
    "# Calculate residuals (errors between predicted and actual values)\n",
    "residuals = y_test_series - y_pred\n",
    "\n",
    "# Plot the residuals\n",
    "plt.figure(figsize=(8, 5))\n",
    "plt.scatter(y_pred, residuals)\n",
    "plt.axhline(y=0, color='r', linestyle='--')\n",
    "plt.xlabel(\"Predicted values\")\n",
    "plt.ylabel(\"Residuals\")\n",
    "plt.title(\"Residuals Plot\")\n",
    "plt.show()\n"
   ]
  },
  {
   "cell_type": "markdown",
   "id": "a4d52b87-5284-464a-9968-b84adb5729ba",
   "metadata": {},
   "source": [
    "Ideal residual plot: A cloud of points around the horizontal line at zero, with no discernible pattern."
   ]
  },
  {
   "cell_type": "markdown",
   "id": "010c94f2-99af-4987-871c-762c3a857174",
   "metadata": {},
   "source": [
    "# Comparing model performance with different feature sets or preprocessing steps"
   ]
  },
  {
   "cell_type": "code",
   "execution_count": 36,
   "id": "eb3e04bf-cfc5-4c64-a39a-5dcf0224b576",
   "metadata": {},
   "outputs": [
    {
     "name": "stdout",
     "output_type": "stream",
     "text": [
      "                                MSE        R2\n",
      "No Preprocessing          24.291119  0.668759\n",
      "With Scaling              24.291119  0.668759\n",
      "With Imputation           24.291119  0.668759\n",
      "With Polynomial Features  14.183558  0.806589\n"
     ]
    }
   ],
   "source": [
    "from sklearn.model_selection import train_test_split, cross_val_score\n",
    "from sklearn.linear_model import LinearRegression\n",
    "from sklearn.preprocessing import StandardScaler, PolynomialFeatures\n",
    "from sklearn.impute import SimpleImputer\n",
    "from sklearn.metrics import mean_squared_error, r2_score\n",
    "\n",
    "#load data\n",
    "# Load dataset\n",
    "filepath = r\"/Users/rosepeterfunja/Tanzania_KIC/Assignment/machine-learning-linear-regression-rhysrose/BostonHousing.csv\"\n",
    "df = pd.read_csv(filepath)\n",
    "\n",
    "\n",
    "# Split the data\n",
    "X = df.drop(columns=[\"medv\"])\n",
    "y = df[\"medv\"]\n",
    "X_train, X_test, y_train, y_test = train_test_split(X, y, test_size=0.2, random_state=42)\n",
    "\n",
    "# 1. Model with no preprocessing\n",
    "model = LinearRegression()\n",
    "model.fit(X_train, y_train)\n",
    "y_pred = model.predict(X_test)\n",
    "mse_no_preprocessing = mean_squared_error(y_test, y_pred)\n",
    "r2_no_preprocessing = r2_score(y_test, y_pred)\n",
    "\n",
    "# 2. Model with scaling (Standardization)\n",
    "scaler = StandardScaler()\n",
    "X_train_scaled = scaler.fit_transform(X_train)\n",
    "X_test_scaled = scaler.transform(X_test)\n",
    "\n",
    "model.fit(X_train_scaled, y_train)\n",
    "y_pred_scaled = model.predict(X_test_scaled)\n",
    "mse_scaled = mean_squared_error(y_test, y_pred_scaled)\n",
    "r2_scaled = r2_score(y_test, y_pred_scaled)\n",
    "\n",
    "# 3. Model with missing value imputation\n",
    "imputer = SimpleImputer(strategy='mean')  # Mean imputation for missing values\n",
    "X_train_imputed = imputer.fit_transform(X_train)\n",
    "X_test_imputed = imputer.transform(X_test)\n",
    "\n",
    "model.fit(X_train_imputed, y_train)\n",
    "y_pred_imputed = model.predict(X_test_imputed)\n",
    "mse_imputed = mean_squared_error(y_test, y_pred_imputed)\n",
    "r2_imputed = r2_score(y_test, y_pred_imputed)\n",
    "\n",
    "# 4. Model with polynomial features (degree 2)\n",
    "poly = PolynomialFeatures(degree=2)\n",
    "X_train_poly = poly.fit_transform(X_train)\n",
    "X_test_poly = poly.transform(X_test)\n",
    "\n",
    "model.fit(X_train_poly, y_train)\n",
    "y_pred_poly = model.predict(X_test_poly)\n",
    "mse_poly = mean_squared_error(y_test, y_pred_poly)\n",
    "r2_poly = r2_score(y_test, y_pred_poly)\n",
    "\n",
    "# Compare results\n",
    "results = {\n",
    "    \"No Preprocessing\": {\"MSE\": mse_no_preprocessing, \"R2\": r2_no_preprocessing},\n",
    "    \"With Scaling\": {\"MSE\": mse_scaled, \"R2\": r2_scaled},\n",
    "    \"With Imputation\": {\"MSE\": mse_imputed, \"R2\": r2_imputed},\n",
    "    \"With Polynomial Features\": {\"MSE\": mse_poly, \"R2\": r2_poly}\n",
    "}\n",
    "\n",
    "# Display results\n",
    "\n",
    "results_df = pd.DataFrame(results).T\n",
    "print(results_df)\n"
   ]
  },
  {
   "cell_type": "markdown",
   "id": "58ca9c0a-c8c9-425e-b7d3-fb9b76f17eb6",
   "metadata": {},
   "source": [
    "Key Takeaways:\n",
    "Polynomial Features significantly improved the model performance, both reducing MSE and increasing R².\n",
    "\n",
    "Scaling and Imputation didn’t show any impact on the model, suggesting that either the data didn’t require scaling or imputation, or other more important transformations (like polynomial feature engineering) should have been considered."
   ]
  },
  {
   "cell_type": "code",
   "execution_count": null,
   "id": "00156510-f490-4f04-9646-bdad9fe01940",
   "metadata": {},
   "outputs": [],
   "source": []
  }
 ],
 "metadata": {
  "kernelspec": {
   "display_name": "Python [conda env:anaconda3]",
   "language": "python",
   "name": "conda-env-anaconda3-py"
  },
  "language_info": {
   "codemirror_mode": {
    "name": "ipython",
    "version": 3
   },
   "file_extension": ".py",
   "mimetype": "text/x-python",
   "name": "python",
   "nbconvert_exporter": "python",
   "pygments_lexer": "ipython3",
   "version": "3.7.1"
  }
 },
 "nbformat": 4,
 "nbformat_minor": 5
}
