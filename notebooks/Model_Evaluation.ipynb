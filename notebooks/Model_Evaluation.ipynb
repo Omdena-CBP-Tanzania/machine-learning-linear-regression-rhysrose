{
 "cells": [
  {
   "cell_type": "code",
   "execution_count": 1,
   "id": "e98ff2e8-320d-4aad-80e4-f2d40d3951a1",
   "metadata": {},
   "outputs": [],
   "source": [
    "import joblib\n",
    "modelpath= \"/Users/rosepeterfunja/Tanzania_KIC/Assignment/machine-learning-linear-regression-rhysrose/models/linear_regression_model.pkl\"\n",
    "\n",
    "model = joblib.load(modelpath)"
   ]
  }
 ],
 "metadata": {
  "kernelspec": {
   "display_name": "Python [conda env:anaconda3]",
   "language": "python",
   "name": "conda-env-anaconda3-py"
  },
  "language_info": {
   "codemirror_mode": {
    "name": "ipython",
    "version": 3
   },
   "file_extension": ".py",
   "mimetype": "text/x-python",
   "name": "python",
   "nbconvert_exporter": "python",
   "pygments_lexer": "ipython3",
   "version": "3.7.1"
  }
 },
 "nbformat": 4,
 "nbformat_minor": 5
}
